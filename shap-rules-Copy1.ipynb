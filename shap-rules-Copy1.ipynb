{
 "cells": [
  {
   "cell_type": "code",
   "execution_count": 14,
   "id": "3a334b7d",
   "metadata": {},
   "outputs": [],
   "source": [
    "import numpy as np\n",
    "import pandas as pd\n",
    "\n",
    "import matplotlib.pyplot as plt\n",
    "\n",
    "import sklearn\n",
    "\n",
    "import scipy.special\n",
    "import itertools"
   ]
  },
  {
   "cell_type": "markdown",
   "id": "f99080ed",
   "metadata": {},
   "source": [
    "# Rule-based model explainability"
   ]
  },
  {
   "cell_type": "markdown",
   "id": "477913d2",
   "metadata": {},
   "source": [
    "In this analysis we want to analyse the importance of rules involved in a rule-based model. We base our analysis on a game theory approach, that consists in identifying the marginal contribution of each rule."
   ]
  },
  {
   "cell_type": "markdown",
   "id": "256e6cd0",
   "metadata": {},
   "source": [
    "$$g(z') = \\phi_0 + \\sum_{i=1}^M \\phi_i z_i'$$\n",
    "\n",
    "Where $g$ is the explanation model. $z' \\in \\{0,1\\}^M$ is a combination of rules, $M$ is the number of rules, and $\\phi_i \\in \\mathbb{R}$ are the Shapley values (rule importance)."
   ]
  },
  {
   "cell_type": "markdown",
   "id": "11fbd528",
   "metadata": {},
   "source": [
    "Let us consider a model with 3 rules. All rules are restrictve i.e. the addition of one rule will necessarily filter out more data."
   ]
  },
  {
   "cell_type": "code",
   "execution_count": 2,
   "id": "9230b75b",
   "metadata": {},
   "outputs": [
    {
     "data": {
      "text/html": [
       "<div>\n",
       "<style scoped>\n",
       "    .dataframe tbody tr th:only-of-type {\n",
       "        vertical-align: middle;\n",
       "    }\n",
       "\n",
       "    .dataframe tbody tr th {\n",
       "        vertical-align: top;\n",
       "    }\n",
       "\n",
       "    .dataframe thead th {\n",
       "        text-align: right;\n",
       "    }\n",
       "</style>\n",
       "<table border=\"1\" class=\"dataframe\">\n",
       "  <thead>\n",
       "    <tr style=\"text-align: right;\">\n",
       "      <th></th>\n",
       "      <th>age</th>\n",
       "      <th>location</th>\n",
       "      <th>income</th>\n",
       "    </tr>\n",
       "  </thead>\n",
       "  <tbody>\n",
       "    <tr>\n",
       "      <th>client1</th>\n",
       "      <td>42</td>\n",
       "      <td>EU</td>\n",
       "      <td>70</td>\n",
       "    </tr>\n",
       "    <tr>\n",
       "      <th>client2</th>\n",
       "      <td>39</td>\n",
       "      <td>EU</td>\n",
       "      <td>110</td>\n",
       "    </tr>\n",
       "    <tr>\n",
       "      <th>client3</th>\n",
       "      <td>45</td>\n",
       "      <td>US</td>\n",
       "      <td>80</td>\n",
       "    </tr>\n",
       "    <tr>\n",
       "      <th>client4</th>\n",
       "      <td>51</td>\n",
       "      <td>US</td>\n",
       "      <td>50</td>\n",
       "    </tr>\n",
       "  </tbody>\n",
       "</table>\n",
       "</div>"
      ],
      "text/plain": [
       "         age location  income\n",
       "client1   42       EU      70\n",
       "client2   39       EU     110\n",
       "client3   45       US      80\n",
       "client4   51       US      50"
      ]
     },
     "execution_count": 2,
     "metadata": {},
     "output_type": "execute_result"
    }
   ],
   "source": [
    "df_data = pd.DataFrame(data={'age':[42,39,45,51],'location':['EU','EU','US','US'],'income':[70,110,80,50]})\n",
    "df_data.index = ['client1','client2','client3','client4']\n",
    "df_data"
   ]
  },
  {
   "cell_type": "code",
   "execution_count": 3,
   "id": "f5f96930",
   "metadata": {},
   "outputs": [],
   "source": [
    "dict_rules = {\n",
    "    'rule1':'age>40',\n",
    "    'rule2':'location==\"EU\"',\n",
    "    'rule3':'income>60'\n",
    "}"
   ]
  },
  {
   "cell_type": "code",
   "execution_count": 4,
   "id": "adaaefd6",
   "metadata": {},
   "outputs": [],
   "source": [
    "def scoring_simul(row, activated_rules):\n",
    "    rules_res = []\n",
    "    if activated_rules[0]==1:\n",
    "        age = row['age']\n",
    "        rules_res.append(eval(dict_rules['rule1']))\n",
    "    if activated_rules[1]==1:\n",
    "        location = row['location']\n",
    "        rules_res.append(eval(dict_rules['rule2']))\n",
    "    if activated_rules[2]==1:\n",
    "        income = row['income']\n",
    "        rules_res.append(eval(dict_rules['rule3']))\n",
    "    if False not in rules_res:\n",
    "        return 1\n",
    "    return 0"
   ]
  },
  {
   "cell_type": "markdown",
   "id": "09789b96",
   "metadata": {},
   "source": [
    "Let us now analyse the importance of rule 1 and rule 2. The first intuitive approach consists in removing the rule and seeing the impact on the total proportion."
   ]
  },
  {
   "cell_type": "code",
   "execution_count": 5,
   "id": "6fc743ea",
   "metadata": {},
   "outputs": [
    {
     "name": "stdout",
     "output_type": "stream",
     "text": [
      "With all rules activated, 25.0% observation are remaining\n"
     ]
    },
    {
     "data": {
      "text/plain": [
       "client1    1\n",
       "client2    0\n",
       "client3    0\n",
       "client4    0\n",
       "dtype: int64"
      ]
     },
     "execution_count": 5,
     "metadata": {},
     "output_type": "execute_result"
    }
   ],
   "source": [
    "df_res = df_data.apply(lambda x: scoring_simul(x, activated_rules=[1,1,1]), axis=1)\n",
    "print('With all rules activated, {}% observation are remaining'.format(df_res.sum()/df_res.shape[0]*100))\n",
    "df_res"
   ]
  },
  {
   "cell_type": "code",
   "execution_count": 6,
   "id": "605cbc8e",
   "metadata": {},
   "outputs": [
    {
     "name": "stdout",
     "output_type": "stream",
     "text": [
      "With all rules activated except rule 1, 50.0% observation are remaining\n"
     ]
    },
    {
     "data": {
      "text/plain": [
       "client1    1\n",
       "client2    1\n",
       "client3    0\n",
       "client4    0\n",
       "dtype: int64"
      ]
     },
     "execution_count": 6,
     "metadata": {},
     "output_type": "execute_result"
    }
   ],
   "source": [
    "df_res = df_data.apply(lambda x: scoring_simul(x, activated_rules=[0,1,1]), axis=1)\n",
    "print('With all rules activated except rule 1, {}% observation are remaining'.format(df_res.sum()/df_res.shape[0]*100))\n",
    "df_res"
   ]
  },
  {
   "cell_type": "code",
   "execution_count": 7,
   "id": "4605a242",
   "metadata": {},
   "outputs": [
    {
     "name": "stdout",
     "output_type": "stream",
     "text": [
      "With all rules activated except rule 2, 50.0% observation are remaining\n"
     ]
    },
    {
     "data": {
      "text/plain": [
       "client1    1\n",
       "client2    0\n",
       "client3    1\n",
       "client4    0\n",
       "dtype: int64"
      ]
     },
     "execution_count": 7,
     "metadata": {},
     "output_type": "execute_result"
    }
   ],
   "source": [
    "df_res = df_data.apply(lambda x: scoring_simul(x, activated_rules=[1,0,1]), axis=1)\n",
    "print('With all rules activated except rule 2, {}% observation are remaining'.format(df_res.sum()/df_res.shape[0]*100))\n",
    "df_res"
   ]
  },
  {
   "cell_type": "markdown",
   "id": "5d977dde",
   "metadata": {},
   "source": [
    "To compare the impact of *rule1* and *rule2* we can't just remove these rules since *rule2* and *rule3* have similar effect on observation 3. Thus, removing *rule1* or *rule2* doesn't make any difference this observation.\n",
    "\n",
    "<img src='powerset.png' width='220px'></img>"
   ]
  },
  {
   "cell_type": "markdown",
   "id": "1a1ed8d1",
   "metadata": {},
   "source": [
    "The shap values are a weighted average of the marginal contributions for each combination.\n",
    "\n",
    "2 approaches can be used to compute the Shapley values.\n",
    "\n",
    "<ins>Analytical approach</ins> (from the research article): the Shap values are the results of the linear regression $\\beta = (X^TWX)^{-1}XWy$ where $W$ is the weighted matrix (\"Shapley Kernel\"). The weights are computed as such:\n",
    "\n",
    "$$\\omega_{z'} = \\frac{M-1}{C^M_{|z'|}|z'|(M-|z'|)}$$\n",
    "\n",
    "where $z'$ is a coalition.\n",
    "\n",
    "From https://christophm.github.io/interpretable-ml-book/shap.html#definition:\n",
    "\n",
    "\"The intuition behind it [the weight function] is: We learn most about individual features if we can study their effects in isolation. If a coalition consists of a single feature, we can learn about this feature’s isolated main effect on the prediction. If a coalition consists of all but one feature, we can learn about this feature’s total effect (main effect plus feature interactions). If a coalition consists of half the features, we learn little about an individual feature’s contribution, as there are many possible coalitions with half of the features.\"\n",
    "\n",
    "*Note*: the intercept is most probably used because we don't center $X$ (combinations).\n",
    "\n",
    "<ins>A visual approach</ins> (from the Medium article): the weights are computed looking at the edges of the Powerset."
   ]
  },
  {
   "cell_type": "code",
   "execution_count": 8,
   "id": "05584d49",
   "metadata": {},
   "outputs": [],
   "source": [
    "# Loop on all observations\n",
    "def predict_proba(activated_rules):\n",
    "#     activated_rules = activated_rules.tolist()[0]\n",
    "    label = df_data.apply(lambda x: scoring_simul(x, activated_rules), axis=1).values\n",
    "    return np.sum(label)/len(label)"
   ]
  },
  {
   "cell_type": "code",
   "execution_count": 9,
   "id": "084fb03a",
   "metadata": {},
   "outputs": [],
   "source": [
    "# Loop on all possible rule combination\n",
    "def proba_combinations(activated_rules_arr):\n",
    "    return np.apply_along_axis(predict_proba, 1, activated_rules_arr)"
   ]
  },
  {
   "cell_type": "code",
   "execution_count": 10,
   "id": "518b9b01",
   "metadata": {},
   "outputs": [],
   "source": [
    "# Implementation from \n",
    "# https://shap.readthedocs.io/en/latest/example_notebooks/tabular_examples/model_agnostic/Simple%20Kernel%20SHAP.html\n",
    "\n",
    "def powerset(iterable):\n",
    "    s = list(iterable)\n",
    "    return itertools.chain.from_iterable(itertools.combinations(s, r) for r in range(len(s)+1))\n",
    "\n",
    "def shapley_kernel(M,s):\n",
    "    if s == 0 or s == M:\n",
    "        return 10000\n",
    "    return (M-1)/(scipy.special.binom(M,s)*s*(M-s))\n",
    "\n",
    "def kernel_shap(f, x, reference, M):\n",
    "    X = np.zeros((2**M,M+1))\n",
    "    X[:,-1] = 1\n",
    "    weights = np.zeros(2**M)\n",
    "    V = np.zeros((2**M,M))\n",
    "    for i in range(2**M):\n",
    "        V[i,:] = reference\n",
    "\n",
    "    for i,s in enumerate(powerset(range(M))):\n",
    "        s = list(s)\n",
    "        V[i,s] = x[s]\n",
    "        X[i,s] = 1\n",
    "        weights[i] = shapley_kernel(M,len(s))\n",
    "    y = f(V)\n",
    "    tmp = np.linalg.inv(np.dot(np.dot(X.T, np.diag(weights)), X))\n",
    "    return np.dot(tmp, np.dot(np.dot(X.T, np.diag(weights)), y)) # Linear regression with kernel (weights)!"
   ]
  },
  {
   "cell_type": "code",
   "execution_count": 11,
   "id": "2acc105f",
   "metadata": {
    "scrolled": true
   },
   "outputs": [
    {
     "name": "stdout",
     "output_type": "stream",
     "text": [
      "shap_values = [-0.25  -0.375 -0.125]\n"
     ]
    }
   ],
   "source": [
    "M = 3\n",
    "reference = np.zeros(M)\n",
    "phi = kernel_shap(proba_combinations, np.array([1,1,1]), reference, M)\n",
    "shap_values = phi[:-1]\n",
    "\n",
    "print(\"shap_values =\", shap_values)"
   ]
  },
  {
   "cell_type": "code",
   "execution_count": 27,
   "id": "ec9b5e72",
   "metadata": {},
   "outputs": [
    {
     "data": {
      "image/png": "[encoded data removed]",
      "text/plain": [
       "<Figure size 720x360 with 1 Axes>"
      ]
     },
     "metadata": {
      "needs_background": "light"
     },
     "output_type": "display_data"
    }
   ],
   "source": [
    "plt.figure(figsize=(10,5))\n",
    "plt.barh(list(dict_rules.keys()), shap_values)\n",
    "plt.ylabel('Rules')\n",
    "plt.xlabel('Shapley values (contributions)')\n",
    "plt.show()"
   ]
  },
  {
   "cell_type": "markdown",
   "id": "b5e0ffb7",
   "metadata": {},
   "source": [
    "This result can be easily understood if we look at the other possible combinations involving the two rules. More specifically, we can see that rule 2 si more impactful simply looking at the result with one rule only."
   ]
  },
  {
   "cell_type": "code",
   "execution_count": 12,
   "id": "f04f22fc",
   "metadata": {},
   "outputs": [
    {
     "name": "stdout",
     "output_type": "stream",
     "text": [
      "With only rule 1 activated, 75.0% observation are remaining\n"
     ]
    },
    {
     "data": {
      "text/plain": [
       "client1    1\n",
       "client2    0\n",
       "client3    1\n",
       "client4    1\n",
       "dtype: int64"
      ]
     },
     "execution_count": 12,
     "metadata": {},
     "output_type": "execute_result"
    }
   ],
   "source": [
    "df_res = df_data.apply(lambda x: scoring_simul(x, activated_rules=[1,0,0]), axis=1)\n",
    "print('With only rule 1 activated, {}% observation are remaining'.format(df_res.sum()/df_res.shape[0]*100))\n",
    "df_res"
   ]
  },
  {
   "cell_type": "code",
   "execution_count": 13,
   "id": "3c306445",
   "metadata": {},
   "outputs": [
    {
     "name": "stdout",
     "output_type": "stream",
     "text": [
      "With only rule 2 activated, 50.0% observation are remaining\n"
     ]
    },
    {
     "data": {
      "text/plain": [
       "client1    1\n",
       "client2    1\n",
       "client3    0\n",
       "client4    0\n",
       "dtype: int64"
      ]
     },
     "execution_count": 13,
     "metadata": {},
     "output_type": "execute_result"
    }
   ],
   "source": [
    "df_res = df_data.apply(lambda x: scoring_simul(x, activated_rules=[0,1,0]), axis=1)\n",
    "print('With only rule 2 activated, {}% observation are remaining'.format(df_res.sum()/df_res.shape[0]*100))\n",
    "df_res"
   ]
  }
 ],
 "metadata": {
  "kernelspec": {
   "display_name": "Python 3",
   "language": "python",
   "name": "python3"
  },
  "language_info": {
   "codemirror_mode": {
    "name": "ipython",
    "version": 3
   },
   "file_extension": ".py",
   "mimetype": "text/x-python",
   "name": "python",
   "nbconvert_exporter": "python",
   "pygments_lexer": "ipython3",
   "version": "3.8.8"
  }
 },
 "nbformat": 4,
 "nbformat_minor": 5
}
